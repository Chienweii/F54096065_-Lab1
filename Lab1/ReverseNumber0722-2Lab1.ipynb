{
 "cells": [
  {
   "cell_type": "code",
   "execution_count": 1,
   "id": "1e4d23dc",
   "metadata": {},
   "outputs": [
    {
     "name": "stdout",
     "output_type": "stream",
     "text": [
      "Enter an integer:9583389503\n"
     ]
    }
   ],
   "source": [
    "num = int(input('Enter an integer:'))\n",
    "def reverse(num): #利用M2_MicronConvert的概念，利用基本符號來翻轉數字～\n",
    "    revs_number = 0  \n",
    "    while (num > 0):  #先確認正負號～\n",
    "        remainder = num % 10  #用%取餘數部分～\n",
    "        revs_number = (revs_number * 10) + remainder  #這步是關鍵！想超久der\n",
    "        num = num // 10  #用//取整數部分～\n",
    "    print(\"The reverse (num) : {}\".format(revs_number)) \n",
    "    "
   ]
  },
  {
   "cell_type": "code",
   "execution_count": 2,
   "id": "483c2db0",
   "metadata": {},
   "outputs": [
    {
     "name": "stdout",
     "output_type": "stream",
     "text": [
      "The reverse (num) : 3059833859\n"
     ]
    }
   ],
   "source": [
    "reverse(num)\n",
    "\n"
   ]
  },
  {
   "cell_type": "code",
   "execution_count": null,
   "id": "e5dbf76c",
   "metadata": {},
   "outputs": [],
   "source": []
  }
 ],
 "metadata": {
  "kernelspec": {
   "display_name": "Python 3",
   "language": "python",
   "name": "python3"
  },
  "language_info": {
   "codemirror_mode": {
    "name": "ipython",
    "version": 3
   },
   "file_extension": ".py",
   "mimetype": "text/x-python",
   "name": "python",
   "nbconvert_exporter": "python",
   "pygments_lexer": "ipython3",
   "version": "3.8.8"
  }
 },
 "nbformat": 4,
 "nbformat_minor": 5
}
