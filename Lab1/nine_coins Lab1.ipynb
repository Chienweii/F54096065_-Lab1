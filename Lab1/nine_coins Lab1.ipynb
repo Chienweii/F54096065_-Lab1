{
 "cells": [
  {
   "cell_type": "code",
   "execution_count": null,
   "id": "6f9c36ca",
   "metadata": {},
   "outputs": [],
   "source": [
    "import random\n",
    "coin=[\"H\",\"T\"]\n",
    "toss=random.choice(coin)\n",
    "print(toss)\n"
   ]
  },
  {
   "cell_type": "code",
   "execution_count": 5,
   "id": "d110a635",
   "metadata": {},
   "outputs": [
    {
     "name": "stdout",
     "output_type": "stream",
     "text": [
      "['H']\n",
      "10\n",
      "['H']\n",
      "10\n",
      "['T']\n",
      "01\n",
      "['T']\n",
      "01\n",
      "['T']\n",
      "01\n",
      "['T']\n",
      "01\n",
      "['T']\n",
      "01\n",
      "['T']\n",
      "01\n",
      "['T']\n",
      "01\n"
     ]
    }
   ],
   "source": [
    "#雖然離繳交時間只剩一小時，但我們不能放棄！\n",
    "import random\n",
    "toss_times=0\n",
    "#一開始設零\n",
    "while toss_times<9:#次數大於等於九即停止\n",
    "        recordList = []\n",
    "        flip = random.randint(0, 1)\n",
    "        if (flip == 0):\n",
    "            recordList.append(\"H\")#把投擲結果加進list\n",
    "            toss_times+=1 #利用次數控制while起始，每投擲一次加一～\n",
    "        else:\n",
    "            recordList.append(\"T\")#把投擲結果加進list\n",
    "            toss_times+=1\n",
    "        print(str(recordList))\n",
    "        print(str(recordList.count(\"H\")) + str(recordList.count(\"T\")))\n",
    "#我不知道怎麼把結果調成老師要的，希望之後老師會講解ＱＱ\n",
    "    "
   ]
  },
  {
   "cell_type": "code",
   "execution_count": null,
   "id": "3eb5e15a",
   "metadata": {},
   "outputs": [],
   "source": []
  }
 ],
 "metadata": {
  "kernelspec": {
   "display_name": "Python 3",
   "language": "python",
   "name": "python3"
  },
  "language_info": {
   "codemirror_mode": {
    "name": "ipython",
    "version": 3
   },
   "file_extension": ".py",
   "mimetype": "text/x-python",
   "name": "python",
   "nbconvert_exporter": "python",
   "pygments_lexer": "ipython3",
   "version": "3.8.8"
  }
 },
 "nbformat": 4,
 "nbformat_minor": 5
}
