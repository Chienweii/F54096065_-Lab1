{
 "cells": [
  {
   "cell_type": "code",
   "execution_count": 1,
   "id": "446d8992",
   "metadata": {},
   "outputs": [
    {
     "name": "stdout",
     "output_type": "stream",
     "text": [
      "Enter the number of smallest and largest values to remove:  1\n",
      "Enter a value (Q or q to quit):273\n",
      "Enter a value (Q or q to quit):-34\n",
      "Enter a value (Q or q to quit):-4859\n",
      "Enter a value (Q or q to quit):2749\n",
      "Enter a value (Q or q to quit):8483\n",
      "Enter a value (Q or q to quit):q\n",
      "The original data: [273, -34, -4859, 2749, 8483]\n",
      "The data with the outliers removed: [-34, 273, 2749]\n",
      "The outliers: [-4859, 8483]\n"
     ]
    }
   ],
   "source": [
    "def removeoutliers(numlist,n):\n",
    "    if n*2>len(numlist):#因為是移除最大最小各n個，所以要先判斷數量到底夠不夠\n",
    "        return[],numlist\n",
    "    numlist.sort() #利用sort排序\n",
    "    newnumlist=numlist[n:-n]\n",
    "    outliers=numlist[:n]+numlist[-n:]#刪首尾各n個\n",
    "    return newnumlist,outliers\n",
    "numbers=[]\n",
    "n=int(input(\"Enter the number of smallest and largest values to remove:  \")) #輸入要去掉幾個最大跟最小值\n",
    "while True: #用while判斷是否繼續動作\n",
    "    value=input(\"Enter a value (Q or q to quit):\")\n",
    "    if value==\"q\"or value==\"Q\":\n",
    "        break      #輸入Qorq表示結束               \n",
    "    else:\n",
    "        value=int(value)\n",
    "        numbers.append(value) #把輸入的數加進list\n",
    "print(\"The original data:\",numbers)\n",
    "newnumlist,outliers=removeoutliers(numbers,n) #使用上面我們定義的公式\n",
    "print(\"The data with the outliers removed:\",newnumlist)#呈現答案\n",
    "print(\"The outliers:\",outliers) #呈現答案\n",
    "\n"
   ]
  },
  {
   "cell_type": "code",
   "execution_count": null,
   "id": "329d5a60",
   "metadata": {},
   "outputs": [],
   "source": []
  }
 ],
 "metadata": {
  "kernelspec": {
   "display_name": "Python 3",
   "language": "python",
   "name": "python3"
  },
  "language_info": {
   "codemirror_mode": {
    "name": "ipython",
    "version": 3
   },
   "file_extension": ".py",
   "mimetype": "text/x-python",
   "name": "python",
   "nbconvert_exporter": "python",
   "pygments_lexer": "ipython3",
   "version": "3.8.8"
  }
 },
 "nbformat": 4,
 "nbformat_minor": 5
}
